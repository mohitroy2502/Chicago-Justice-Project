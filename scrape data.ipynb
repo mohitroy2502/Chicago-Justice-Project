{
 "cells": [
  {
   "cell_type": "code",
   "execution_count": 63,
   "metadata": {},
   "outputs": [],
   "source": [
    "from selenium import webdriver\n",
    "from selenium.webdriver.common.keys import Keys\n",
    "from selenium.webdriver.common.by import By\n",
    "from selenium.webdriver.support.ui import WebDriverWait\n",
    "from selenium.webdriver.support import expected_conditions as EC\n",
    "import time\n",
    "\n",
    "import pandas as pd"
   ]
  },
  {
   "cell_type": "code",
   "execution_count": 65,
   "metadata": {},
   "outputs": [
    {
     "name": "stdout",
     "output_type": "stream",
     "text": [
      "Done\n",
      "Time taken: 9.52423882484436\n"
     ]
    }
   ],
   "source": [
    "start_time = time.time()\n",
    "\n",
    "url = \"http://data.chicagojustice.org/\"\n",
    "driver = webdriver.Chrome()\n",
    "\n",
    "pages = 1\n",
    "pages_current = 1\n",
    "\n",
    "def extractAndSaveData(html_page,page_number):\n",
    "    '''\n",
    "    html_page: pass the required html page that contains data in the table format \n",
    "    page_number: pass the current html_page number in order to save data in a consistant format\n",
    "    \n",
    "    This function extracts data from the table that resides in the html page of Chicago Justice Project\n",
    "    and removes the un-necessay columns. Also, saves the data in a csv format.\n",
    "    \n",
    "    '''\n",
    "    df = pd.read_html(html_page)\n",
    "    \n",
    "    df[0].drop([\"Unnamed: 0\"], axis=1, inplace=True)\n",
    "    \n",
    "    \n",
    "    df[0].to_csv('data/page_{}.csv'.format(page_number),index=False)\n",
    "    \n",
    "# This for loop will crawl to requires number of html pages in chicago justice project\n",
    "# and extracts the data, stores it in csv format.\n",
    "for i in range(0,pages):\n",
    "    \n",
    "    # This condition is only for the first time page load\n",
    "    if pages_current==1:\n",
    "        \n",
    "        driver.get(\"http://data.chicagojustice.org/\")\n",
    "        html_page = driver.page_source\n",
    "       \n",
    "        extractAndSaveData(html_page,pages_current)\n",
    "        pages_current += 1\n",
    "    \n",
    "    # This condition is for crwaling to next html page in Chicgo Justice Project\n",
    "    else:\n",
    "        try:\n",
    "            element = WebDriverWait(driver,10).until(EC.presence_of_element_located((By.XPATH,'//button[@aria-label=\"Next\"]')))\n",
    "            element.click()\n",
    "            html_page = driver.page_source\n",
    "            extractAndSaveData(html_page,pages_current)\n",
    "            pages_current += 1\n",
    "        except:\n",
    "            print('Error in Saving Data')\n",
    "            print('Downloaded and Saved pages: ',pages_current)\n",
    "            driver.quit()\n",
    "            \n",
    "        # element = driver.find_element_by_xpath('//button[@aria-label=\"Next\"]')\n",
    "        # element.click()\n",
    "        \n",
    "end_time = time.time()\n",
    "print('Done')\n",
    "print('Time taken:',end_time - start_time)\n",
    "\n"
   ]
  },
  {
   "cell_type": "code",
   "execution_count": null,
   "metadata": {},
   "outputs": [],
   "source": []
  }
 ],
 "metadata": {
  "kernelspec": {
   "display_name": "Python 3",
   "language": "python",
   "name": "python3"
  },
  "language_info": {
   "codemirror_mode": {
    "name": "ipython",
    "version": 3
   },
   "file_extension": ".py",
   "mimetype": "text/x-python",
   "name": "python",
   "nbconvert_exporter": "python",
   "pygments_lexer": "ipython3",
   "version": "3.8.3"
  }
 },
 "nbformat": 4,
 "nbformat_minor": 4
}
