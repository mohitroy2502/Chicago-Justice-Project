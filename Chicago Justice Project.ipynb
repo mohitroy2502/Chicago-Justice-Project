{
 "cells": [
  {
   "cell_type": "code",
   "execution_count": 1,
   "metadata": {},
   "outputs": [],
   "source": [
    "from bs4 import BeautifulSoup\n",
    "import requests\n",
    "import pandas as pd\n",
    "import re"
   ]
  },
  {
   "cell_type": "code",
   "execution_count": 2,
   "metadata": {},
   "outputs": [],
   "source": [
    "url=\"http://data.chicagojustice.org/articles/\""
   ]
  },
  {
   "cell_type": "code",
   "execution_count": 3,
   "metadata": {},
   "outputs": [],
   "source": [
    "# Make a GET request to fetch the raw HTML content\n",
    "html_content = requests.get(url).text"
   ]
  },
  {
   "cell_type": "code",
   "execution_count": 4,
   "metadata": {},
   "outputs": [],
   "source": [
    "# Parse the html content\n",
    "soup = BeautifulSoup(html_content, \"lxml\")"
   ]
  },
  {
   "cell_type": "code",
   "execution_count": 5,
   "metadata": {},
   "outputs": [
    {
     "name": "stdout",
     "output_type": "stream",
     "text": [
      "Number of tables on site:  1\n"
     ]
    }
   ],
   "source": [
    "# Step 3: Analyze the HTML tag, where your content lives\n",
    "# Create a data dictionary to store the data.\n",
    "data = {}\n",
    "#Get the table having the class wikitable\n",
    "article = soup.find_all(\"table\", attrs={\"id\": \"articleTable\"})\n",
    "print(\"Number of tables on site: \",len(article))"
   ]
  },
  {
   "cell_type": "code",
   "execution_count": 6,
   "metadata": {},
   "outputs": [],
   "source": [
    "article_data = article[0].find_all(\"tr\")"
   ]
  },
  {
   "cell_type": "code",
   "execution_count": 7,
   "metadata": {},
   "outputs": [],
   "source": [
    "head = article_data[0] # 0th item is the header row\n",
    "body_rows = article_data[1:] # All other items becomes the rest of the rows"
   ]
  },
  {
   "cell_type": "code",
   "execution_count": 8,
   "metadata": {},
   "outputs": [
    {
     "name": "stdout",
     "output_type": "stream",
     "text": [
      "['', 'Load Time', 'Load Date', 'Source', 'Title', 'Link', 'Snippet']\n"
     ]
    }
   ],
   "source": [
    "headings = []\n",
    "for item in head.find_all(\"th\"): # loop through all th elements\n",
    "    # convert the th elements to text and strip \"\\n\"\n",
    "    item = (item.text).rstrip(\"\\n\")\n",
    "    # append the clean column name to headings\n",
    "    headings.append(item)\n",
    "print(headings)"
   ]
  },
  {
   "cell_type": "code",
   "execution_count": 9,
   "metadata": {},
   "outputs": [],
   "source": [
    "# Next is now to loop though the rest of the rows\n",
    "\n",
    "#print(body_rows[0])\n",
    "all_rows = [] # will be a list for list for all rows\n",
    "for row_num in range(len(body_rows)): # A row at a time\n",
    "    row = [] # this will old entries for one row\n",
    "    for row_item in body_rows[row_num].find_all(\"td\"): #loop through all row entries\n",
    "        # row_item.text removes the tags from the entries\n",
    "        # the following regex is to remove \\xa0 and \\n and comma from row_item.text\n",
    "        # xa0 encodes the flag, \\n is the newline and comma separates thousands in numbers\n",
    "        aa = re.sub(\"(\\xa0)|(\\n)|,\",\"\",row_item.text)\n",
    "        #append aa to row - note one row entry is being appended\n",
    "        row.append(aa)\n",
    "    # append one row to all_rows\n",
    "    all_rows.append(row)"
   ]
  },
  {
   "cell_type": "code",
   "execution_count": 10,
   "metadata": {},
   "outputs": [
    {
     "data": {
      "text/html": [
       "<div>\n",
       "<style scoped>\n",
       "    .dataframe tbody tr th:only-of-type {\n",
       "        vertical-align: middle;\n",
       "    }\n",
       "\n",
       "    .dataframe tbody tr th {\n",
       "        vertical-align: top;\n",
       "    }\n",
       "\n",
       "    .dataframe thead th {\n",
       "        text-align: right;\n",
       "    }\n",
       "</style>\n",
       "<table border=\"1\" class=\"dataframe\">\n",
       "  <thead>\n",
       "    <tr style=\"text-align: right;\">\n",
       "      <th></th>\n",
       "      <th></th>\n",
       "      <th>Load Time</th>\n",
       "      <th>Load Date</th>\n",
       "      <th>Source</th>\n",
       "      <th>Title</th>\n",
       "      <th>Link</th>\n",
       "      <th>Snippet</th>\n",
       "    </tr>\n",
       "  </thead>\n",
       "  <tbody>\n",
       "    <tr>\n",
       "      <td>0</td>\n",
       "      <td>View Article</td>\n",
       "      <td>10:01 a.m.</td>\n",
       "      <td>February 7 2021</td>\n",
       "      <td>WGN TV</td>\n",
       "      <td>Sunday Brunch: Chicken Wings and Buffalo Sauce</td>\n",
       "      <td>https://wgntv.com/news/wgn-weekend-morning-new...</td>\n",
       "      <td>Chef Frankie Celenza joins WGN Weekend Morning...</td>\n",
       "    </tr>\n",
       "    <tr>\n",
       "      <td>1</td>\n",
       "      <td>View Article</td>\n",
       "      <td>10:01 a.m.</td>\n",
       "      <td>February 7 2021</td>\n",
       "      <td>WGN TV</td>\n",
       "      <td>Officials plead: Don’t let Super Bowl become s...</td>\n",
       "      <td>https://wgntv.com/news/coronavirus/officials-p...</td>\n",
       "      <td>Kansas City Chiefs superfan Ty Rowton hugged s...</td>\n",
       "    </tr>\n",
       "    <tr>\n",
       "      <td>2</td>\n",
       "      <td>View Article</td>\n",
       "      <td>10:01 a.m.</td>\n",
       "      <td>February 7 2021</td>\n",
       "      <td>WGN TV</td>\n",
       "      <td>AstraZeneca vaccine being tweaked to fight Sou...</td>\n",
       "      <td>https://wgntv.com/news/coronavirus/astrazeneca...</td>\n",
       "      <td>LONDON (AP) — Developers of the Oxford-AstraZe...</td>\n",
       "    </tr>\n",
       "    <tr>\n",
       "      <td>3</td>\n",
       "      <td>View Article</td>\n",
       "      <td>10:01 a.m.</td>\n",
       "      <td>February 7 2021</td>\n",
       "      <td>WGN TV</td>\n",
       "      <td>Next stop Mars: 3 spacecraft arriving in quick...</td>\n",
       "      <td>https://wgntv.com/news/next-stop-mars-3-spacec...</td>\n",
       "      <td>CAPE CANAVERAL Fla. (AP) — After hurtling hund...</td>\n",
       "    </tr>\n",
       "    <tr>\n",
       "      <td>4</td>\n",
       "      <td>View Article</td>\n",
       "      <td>10:01 a.m.</td>\n",
       "      <td>February 7 2021</td>\n",
       "      <td>NBC Local</td>\n",
       "      <td>Chicago Weather: Bitterly Cold Temperatures Wi...</td>\n",
       "      <td>https://www.nbcchicago.com/weather/chicago-wea...</td>\n",
       "      <td>A wind chill advisory will be in effect until ...</td>\n",
       "    </tr>\n",
       "  </tbody>\n",
       "</table>\n",
       "</div>"
      ],
      "text/plain": [
       "                  Load Time        Load Date     Source  \\\n",
       "0  View Article  10:01 a.m.  February 7 2021     WGN TV   \n",
       "1  View Article  10:01 a.m.  February 7 2021     WGN TV   \n",
       "2  View Article  10:01 a.m.  February 7 2021     WGN TV   \n",
       "3  View Article  10:01 a.m.  February 7 2021     WGN TV   \n",
       "4  View Article  10:01 a.m.  February 7 2021  NBC Local   \n",
       "\n",
       "                                               Title  \\\n",
       "0     Sunday Brunch: Chicken Wings and Buffalo Sauce   \n",
       "1  Officials plead: Don’t let Super Bowl become s...   \n",
       "2  AstraZeneca vaccine being tweaked to fight Sou...   \n",
       "3  Next stop Mars: 3 spacecraft arriving in quick...   \n",
       "4  Chicago Weather: Bitterly Cold Temperatures Wi...   \n",
       "\n",
       "                                                Link  \\\n",
       "0  https://wgntv.com/news/wgn-weekend-morning-new...   \n",
       "1  https://wgntv.com/news/coronavirus/officials-p...   \n",
       "2  https://wgntv.com/news/coronavirus/astrazeneca...   \n",
       "3  https://wgntv.com/news/next-stop-mars-3-spacec...   \n",
       "4  https://www.nbcchicago.com/weather/chicago-wea...   \n",
       "\n",
       "                                             Snippet  \n",
       "0  Chef Frankie Celenza joins WGN Weekend Morning...  \n",
       "1  Kansas City Chiefs superfan Ty Rowton hugged s...  \n",
       "2  LONDON (AP) — Developers of the Oxford-AstraZe...  \n",
       "3  CAPE CANAVERAL Fla. (AP) — After hurtling hund...  \n",
       "4  A wind chill advisory will be in effect until ...  "
      ]
     },
     "execution_count": 10,
     "metadata": {},
     "output_type": "execute_result"
    }
   ],
   "source": [
    "# We can now use the data on all_rowsa and headings to make a table\n",
    "# all_rows becomes our data and headings the column names\n",
    "df = pd.DataFrame(data=all_rows,columns=headings)\n",
    "df.head()"
   ]
  },
  {
   "cell_type": "code",
   "execution_count": null,
   "metadata": {},
   "outputs": [],
   "source": []
  },
  {
   "cell_type": "code",
   "execution_count": null,
   "metadata": {},
   "outputs": [],
   "source": []
  },
  {
   "cell_type": "code",
   "execution_count": null,
   "metadata": {},
   "outputs": [],
   "source": []
  },
  {
   "cell_type": "code",
   "execution_count": null,
   "metadata": {},
   "outputs": [],
   "source": []
  },
  {
   "cell_type": "code",
   "execution_count": null,
   "metadata": {},
   "outputs": [],
   "source": []
  },
  {
   "cell_type": "code",
   "execution_count": null,
   "metadata": {},
   "outputs": [],
   "source": []
  },
  {
   "cell_type": "code",
   "execution_count": null,
   "metadata": {},
   "outputs": [],
   "source": []
  },
  {
   "cell_type": "code",
   "execution_count": null,
   "metadata": {},
   "outputs": [],
   "source": []
  }
 ],
 "metadata": {
  "kernelspec": {
   "display_name": "Python 3",
   "language": "python",
   "name": "python3"
  },
  "language_info": {
   "codemirror_mode": {
    "name": "ipython",
    "version": 3
   },
   "file_extension": ".py",
   "mimetype": "text/x-python",
   "name": "python",
   "nbconvert_exporter": "python",
   "pygments_lexer": "ipython3",
   "version": "3.7.4"
  }
 },
 "nbformat": 4,
 "nbformat_minor": 2
}
